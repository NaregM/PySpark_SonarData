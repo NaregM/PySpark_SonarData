{
 "cells": [
  {
   "cell_type": "code",
   "execution_count": 50,
   "metadata": {},
   "outputs": [],
   "source": [
    "import numpy as np \n",
    "import pandas as pd\n",
    "import matplotlib.pyplot as plt\n",
    "\n",
    "import pyspark\n",
    "from pyspark import SparkContext\n",
    "\n",
    "from pyspark.mllib.classification import LogisticRegressionWithLBFGS\n",
    "from pyspark.ml.classification import LogisticRegression\n",
    "from pyspark.ml.classification import DecisionTreeClassifier\n",
    "from pyspark.ml.classification import MultilayerPerceptronClassifier\n",
    "from pyspark.ml.evaluation import MulticlassClassificationEvaluator\n",
    "from pyspark.ml.tuning import ParamGridBuilder, CrossValidator\n",
    "\n",
    "# PCA\n",
    "from pyspark.ml.feature import PCA\n",
    "from pyspark.ml.linalg import Vectors\n",
    "\n",
    "from pyspark.ml.feature import VectorAssembler\n",
    "from pyspark.ml.evaluation import BinaryClassificationEvaluator\n",
    "from pyspark.ml.classification import RandomForestClassifier\n",
    "\n",
    "from pyspark.sql import SparkSession\n",
    "from pyspark.sql.functions import when\n",
    "\n",
    "%matplotlib inline"
   ]
  },
  {
   "cell_type": "code",
   "execution_count": 2,
   "metadata": {},
   "outputs": [],
   "source": [
    "sc = SparkContext(master = \"local\", appName = \"Name\")\n",
    "\n",
    "spark = SparkSession.builder.appName('ml-sonar').getOrCreate()"
   ]
  },
  {
   "cell_type": "code",
   "execution_count": 8,
   "metadata": {},
   "outputs": [],
   "source": [
    "data_path = \"/home/nareg/Desktop/Data Science/Deep Learning/sonar.all-data\""
   ]
  },
  {
   "cell_type": "code",
   "execution_count": 36,
   "metadata": {},
   "outputs": [],
   "source": [
    "df = spark.read.format(\"csv\").option(\"header\", \"false\").option(\"inferSchema\", \"true\").load(data_path)"
   ]
  },
  {
   "cell_type": "code",
   "execution_count": 37,
   "metadata": {},
   "outputs": [],
   "source": [
    "df = df.withColumn(\"_c60\", when(df._c60 == \"R\", 0).otherwise(1))"
   ]
  },
  {
   "cell_type": "code",
   "execution_count": 38,
   "metadata": {},
   "outputs": [],
   "source": [
    "cols = df.columns\n",
    "cols.remove(\"_c60\")"
   ]
  },
  {
   "cell_type": "code",
   "execution_count": 39,
   "metadata": {},
   "outputs": [
    {
     "data": {
      "text/plain": [
       "1    111\n",
       "0     97\n",
       "Name: _c60, dtype: int64"
      ]
     },
     "execution_count": 39,
     "metadata": {},
     "output_type": "execute_result"
    }
   ],
   "source": [
    "# Number of cases per class\n",
    "pd.value_counts(df.toPandas()._c60)"
   ]
  },
  {
   "cell_type": "code",
   "execution_count": 40,
   "metadata": {},
   "outputs": [],
   "source": [
    "assembler = VectorAssembler(inputCols = cols, outputCol = \"features\")\n",
    "\n",
    "df = assembler.transform(df)"
   ]
  },
  {
   "cell_type": "markdown",
   "metadata": {},
   "source": [
    "# PCA"
   ]
  },
  {
   "cell_type": "code",
   "execution_count": 41,
   "metadata": {},
   "outputs": [],
   "source": [
    "pca = PCA(k = 13).setInputCol(\"features\").setOutputCol(\"PCA_features\")\n",
    "\n",
    "df = pca.fit(df).transform(df)"
   ]
  },
  {
   "cell_type": "code",
   "execution_count": 42,
   "metadata": {},
   "outputs": [
    {
     "name": "stdout",
     "output_type": "stream",
     "text": [
      "+--------------------+--------------------+\n",
      "|            features|        PCA_features|\n",
      "+--------------------+--------------------+\n",
      "|[0.02,0.0371,0.04...|[0.28941881930573...|\n",
      "|[0.0453,0.0523,0....|[-1.2573410622431...|\n",
      "|[0.0262,0.0582,0....|[-0.6125604941696...|\n",
      "|[0.01,0.0171,0.06...|[0.56536153675332...|\n",
      "|[0.0762,0.0666,0....|[-0.3514292502304...|\n",
      "+--------------------+--------------------+\n",
      "only showing top 5 rows\n",
      "\n"
     ]
    }
   ],
   "source": [
    "df.select(\"features\", \"PCA_features\").show(5)"
   ]
  },
  {
   "cell_type": "code",
   "execution_count": 43,
   "metadata": {},
   "outputs": [],
   "source": [
    "train, test = df.randomSplit([0.75, 0.25], seed = 420)"
   ]
  },
  {
   "cell_type": "markdown",
   "metadata": {},
   "source": [
    "# Logistic Regression"
   ]
  },
  {
   "cell_type": "code",
   "execution_count": 17,
   "metadata": {},
   "outputs": [],
   "source": [
    "lr = LogisticRegression(labelCol = \"_c60\", featuresCol = \"PCA_features\", maxIter = 20)\n",
    "\n",
    "model = lr.fit(train)\n",
    "predict_train = model.transform(train)\n",
    "predict_test = model.transform(test)"
   ]
  },
  {
   "cell_type": "code",
   "execution_count": 18,
   "metadata": {},
   "outputs": [
    {
     "name": "stdout",
     "output_type": "stream",
     "text": [
      "+----+----------+\n",
      "|_c60|prediction|\n",
      "+----+----------+\n",
      "|   1|       0.0|\n",
      "|   0|       0.0|\n",
      "|   0|       0.0|\n",
      "|   0|       0.0|\n",
      "|   0|       0.0|\n",
      "|   1|       1.0|\n",
      "|   0|       0.0|\n",
      "|   0|       0.0|\n",
      "|   0|       0.0|\n",
      "|   1|       1.0|\n",
      "+----+----------+\n",
      "only showing top 10 rows\n",
      "\n"
     ]
    }
   ],
   "source": [
    "predict_test.select(\"_c60\", \"prediction\").show(10)"
   ]
  },
  {
   "cell_type": "code",
   "execution_count": 19,
   "metadata": {},
   "outputs": [
    {
     "name": "stdout",
     "output_type": "stream",
     "text": [
      "Accuracy:  0.8035714285714286\n"
     ]
    }
   ],
   "source": [
    "print(\"Accuracy: \",\n",
    "      np.mean(predict_test.select(\"_c60\", \"prediction\").toPandas()[\"_c60\"] == predict_test.select(\"_c60\", \"prediction\").toPandas()[\"prediction\"]))"
   ]
  },
  {
   "cell_type": "code",
   "execution_count": 20,
   "metadata": {},
   "outputs": [
    {
     "name": "stdout",
     "output_type": "stream",
     "text": [
      "+----+--------------------+----------+--------------------+\n",
      "|_c60|       rawPrediction|prediction|         probability|\n",
      "+----+--------------------+----------+--------------------+\n",
      "|   1|[1.48931157795913...|       0.0|[0.81597492171628...|\n",
      "|   0|[1.81787671238998...|       0.0|[0.86031115425930...|\n",
      "|   0|[3.82388167817851...|       0.0|[0.97862406217445...|\n",
      "|   0|[2.94563738354235...|       0.0|[0.95005689351939...|\n",
      "|   0|[2.13910561911061...|       0.0|[0.89464634101337...|\n",
      "+----+--------------------+----------+--------------------+\n",
      "only showing top 5 rows\n",
      "\n",
      "The area under ROC for train set is 0.8675013041210224\n",
      "The area under ROC for test set is 0.8576923076923076\n"
     ]
    }
   ],
   "source": [
    "evaluator = BinaryClassificationEvaluator(rawPredictionCol = \"rawPrediction\", labelCol = \"_c60\")\n",
    "\n",
    "predict_test.select(\"_c60\",\"rawPrediction\",\"prediction\",\"probability\").show(5)\n",
    "\n",
    "print(\"The area under ROC for train set is {}\".format(evaluator.evaluate(predict_train)))\n",
    "print(\"The area under ROC for test set is {}\".format(evaluator.evaluate(predict_test)))"
   ]
  },
  {
   "cell_type": "code",
   "execution_count": 28,
   "metadata": {},
   "outputs": [
    {
     "name": "stdout",
     "output_type": "stream",
     "text": [
      "Area under ROC:  0.8675013041210224\n"
     ]
    },
    {
     "data": {
      "image/png": "[encoded data removed]",
      "text/plain": [
       "<Figure size 1008x360 with 2 Axes>"
      ]
     },
     "metadata": {
      "needs_background": "light"
     },
     "output_type": "display_data"
    }
   ],
   "source": [
    "roc = model.summary.roc.toPandas()\n",
    "\n",
    "fig, (ax1, ax2) = plt.subplots(1, 2, figsize = (14, 5))\n",
    "\n",
    "ax1.plot(roc['FPR'], roc['TPR'], lw = 3)\n",
    "\n",
    "ax1.set_xlabel('True Positive Rate')\n",
    "ax1.set_ylabel('False Positive Rate')\n",
    "ax1.set_title('ROC Curve')\n",
    "\n",
    "ax1.grid()\n",
    "print(\"Area under ROC: \", model.summary.areaUnderROC)\n",
    "\n",
    "pr = model.summary.pr.toPandas()\n",
    "\n",
    "ax2.plot(pr['recall'],pr['precision'], lw = 3)\n",
    "ax2.set_xlabel('Recall');\n",
    "ax2.set_ylabel('Precision')\n",
    "\n",
    "ax2.grid();"
   ]
  },
  {
   "cell_type": "markdown",
   "metadata": {},
   "source": [
    "---"
   ]
  },
  {
   "cell_type": "markdown",
   "metadata": {},
   "source": [
    "# Decision Tree Classifier"
   ]
  },
  {
   "cell_type": "code",
   "execution_count": 29,
   "metadata": {},
   "outputs": [],
   "source": [
    "dt = DecisionTreeClassifier(labelCol = \"_c60\", featuresCol = \"PCA_features\", maxDepth = 5)\n",
    "\n",
    "model_tree = dt.fit(train)\n",
    "predict_train_tree = model_tree.transform(train)\n",
    "predict_test_tree = model_tree.transform(test)"
   ]
  },
  {
   "cell_type": "code",
   "execution_count": 30,
   "metadata": {},
   "outputs": [
    {
     "name": "stdout",
     "output_type": "stream",
     "text": [
      "Accuracy:  0.8392857142857143\n"
     ]
    }
   ],
   "source": [
    "print(\"Accuracy: \",\n",
    "      np.mean(predict_test_tree.select(\"_c60\", \"prediction\").toPandas()[\"_c60\"] == predict_test_tree.select(\"_c60\", \"prediction\").toPandas()[\"prediction\"]))"
   ]
  },
  {
   "cell_type": "markdown",
   "metadata": {},
   "source": [
    "# K-fold Cross Validation"
   ]
  },
  {
   "cell_type": "code",
   "execution_count": 120,
   "metadata": {},
   "outputs": [],
   "source": [
    "paramGrid = ParamGridBuilder().addGrid(lr.aggregationDepth,[2,5,10])\\\n",
    "                              .addGrid(lr.elasticNetParam,[0.0, 0.5, 1.0])\\\n",
    "                              .addGrid(lr.fitIntercept,[False, True])\\\n",
    "                              .addGrid(lr.maxIter,[5, 20, 200])\\\n",
    "                              .addGrid(lr.regParam,[0.01, 0.5, 2.0])\\\n",
    "                              .build()"
   ]
  },
  {
   "cell_type": "code",
   "execution_count": 29,
   "metadata": {},
   "outputs": [],
   "source": [
    "cv_k = CrossValidator(estimator = lr, estimatorParamMaps = paramGrid, evaluator = evaluator, numFolds = 5)\n",
    "\n",
    "model_cv = cv_k.fit(train)\n",
    "predict_train_cv = model_cv.transform(train)\n",
    "predict_test_cv = model_cv.transform(test)"
   ]
  },
  {
   "cell_type": "code",
   "execution_count": 30,
   "metadata": {},
   "outputs": [
    {
     "name": "stdout",
     "output_type": "stream",
     "text": [
      "Accuracy:  0.8035714285714286\n"
     ]
    }
   ],
   "source": [
    "print(\"Accuracy: \",\n",
    "      np.mean(predict_test_cv.select(\"_c60\", \"prediction\").toPandas()[\"_c60\"] == predict_test_cv.select(\"_c60\", \"prediction\").toPandas()[\"prediction\"]))"
   ]
  },
  {
   "cell_type": "code",
   "execution_count": 60,
   "metadata": {},
   "outputs": [
    {
     "name": "stdout",
     "output_type": "stream",
     "text": [
      "-3.244902621259846\n",
      "[-0.588141276337126,0.0,-0.08981904955998944,-3.989335798654114,3.6562371114627763,0.257521549841511,1.744086764115471,-0.37392972749484543,0.5711273069232807]\n"
     ]
    }
   ],
   "source": [
    "# Intercept and coefficients\n",
    "print(model_cv.bestModel.intercept)\n",
    "print(model_cv.bestModel.coefficients)"
   ]
  },
  {
   "cell_type": "code",
   "execution_count": 67,
   "metadata": {},
   "outputs": [
    {
     "data": {
      "text/plain": [
       "{Param(parent='LogisticRegression_9e41c67fda76', name='aggregationDepth', doc='suggested depth for treeAggregate (>= 2).'): 2,\n",
       " Param(parent='LogisticRegression_9e41c67fda76', name='elasticNetParam', doc='the ElasticNet mixing parameter, in range [0, 1]. For alpha = 0, the penalty is an L2 penalty. For alpha = 1, it is an L1 penalty.'): 1.0,\n",
       " Param(parent='LogisticRegression_9e41c67fda76', name='fitIntercept', doc='whether to fit an intercept term.'): True,\n",
       " Param(parent='LogisticRegression_9e41c67fda76', name='maxIter', doc='max number of iterations (>= 0).'): 200,\n",
       " Param(parent='LogisticRegression_9e41c67fda76', name='regParam', doc='regularization parameter (>= 0).'): 0.01}"
      ]
     },
     "execution_count": 67,
     "metadata": {},
     "output_type": "execute_result"
    }
   ],
   "source": [
    "# Best hypeparameter values\n",
    "model_cv.getEstimatorParamMaps()[np.argmax(model_cv.avgMetrics)]"
   ]
  },
  {
   "cell_type": "markdown",
   "metadata": {},
   "source": [
    "# Random Forest Classifier"
   ]
  },
  {
   "cell_type": "code",
   "execution_count": 44,
   "metadata": {},
   "outputs": [],
   "source": [
    "rf = RandomForestClassifier(featuresCol = 'PCA_features', labelCol = '_c60')\n",
    "\n",
    "model_rf = rf.fit(train)\n",
    "\n",
    "predict_train_rf = model_rf.transform(train)\n",
    "predict_test_rf = model_rf.transform(test)"
   ]
  },
  {
   "cell_type": "code",
   "execution_count": 45,
   "metadata": {},
   "outputs": [
    {
     "name": "stdout",
     "output_type": "stream",
     "text": [
      "Accuracy:  0.8214285714285714\n"
     ]
    }
   ],
   "source": [
    "print(\"Accuracy: \",\n",
    "      np.mean(predict_test_rf.select(\"_c60\", \"prediction\").toPandas()[\"_c60\"] == predict_test_rf.select(\"_c60\", \"prediction\").toPandas()[\"prediction\"]))"
   ]
  },
  {
   "cell_type": "markdown",
   "metadata": {},
   "source": [
    "# Multilayer Perceptron Classifier"
   ]
  },
  {
   "cell_type": "code",
   "execution_count": 103,
   "metadata": {},
   "outputs": [],
   "source": [
    "layers = [13, 26, 36, 13, 2]\n",
    "\n",
    "perceptron = MultilayerPerceptronClassifier(maxIter = 200, layers = layers, blockSize = 128, seed = 420, \n",
    "                                            featuresCol = 'PCA_features', labelCol = '_c60')\n",
    "\n",
    "# train the model\n",
    "model_perceptron = perceptron.fit(train)\n",
    "\n",
    "predict_train_perceptron = model_perceptron.transform(train)\n",
    "predict_test_perceptron = model_perceptron.transform(test)"
   ]
  },
  {
   "cell_type": "code",
   "execution_count": 104,
   "metadata": {},
   "outputs": [
    {
     "name": "stdout",
     "output_type": "stream",
     "text": [
      "Accuracy:  0.8214285714285714\n"
     ]
    }
   ],
   "source": [
    "print(\"Accuracy: \",\n",
    "      np.mean(predict_test_perceptron.select(\"_c60\", \"prediction\").toPandas()[\"_c60\"] == predict_test_perceptron.select(\"_c60\", \"prediction\").toPandas()[\"prediction\"]))"
   ]
  },
  {
   "cell_type": "code",
   "execution_count": 105,
   "metadata": {},
   "outputs": [
    {
     "name": "stdout",
     "output_type": "stream",
     "text": [
      "Area Under ROC = 0.8256410256410257\n"
     ]
    }
   ],
   "source": [
    "#predictionAndLabels = predict_train_perceptron.select(\"_c60\", \"prediction\")\n",
    "\n",
    "evaluator = BinaryClassificationEvaluator(rawPredictionCol = \"rawPrediction\", labelCol = \"_c60\",\n",
    "                                          metricName = 'areaUnderROC')\n",
    "\n",
    "print(\"Area Under ROC = \" + str(evaluator.evaluate(predict_test_perceptron)))"
   ]
  },
  {
   "cell_type": "code",
   "execution_count": null,
   "metadata": {},
   "outputs": [],
   "source": []
  },
  {
   "cell_type": "code",
   "execution_count": null,
   "metadata": {},
   "outputs": [],
   "source": []
  },
  {
   "cell_type": "code",
   "execution_count": null,
   "metadata": {},
   "outputs": [],
   "source": []
  },
  {
   "cell_type": "code",
   "execution_count": null,
   "metadata": {},
   "outputs": [],
   "source": []
  },
  {
   "cell_type": "code",
   "execution_count": null,
   "metadata": {},
   "outputs": [],
   "source": []
  },
  {
   "cell_type": "code",
   "execution_count": null,
   "metadata": {},
   "outputs": [],
   "source": []
  },
  {
   "cell_type": "code",
   "execution_count": null,
   "metadata": {},
   "outputs": [],
   "source": []
  },
  {
   "cell_type": "code",
   "execution_count": null,
   "metadata": {},
   "outputs": [],
   "source": []
  },
  {
   "cell_type": "code",
   "execution_count": null,
   "metadata": {},
   "outputs": [],
   "source": []
  },
  {
   "cell_type": "code",
   "execution_count": null,
   "metadata": {},
   "outputs": [],
   "source": []
  },
  {
   "cell_type": "code",
   "execution_count": null,
   "metadata": {},
   "outputs": [],
   "source": []
  },
  {
   "cell_type": "code",
   "execution_count": null,
   "metadata": {},
   "outputs": [],
   "source": []
  },
  {
   "cell_type": "code",
   "execution_count": null,
   "metadata": {},
   "outputs": [],
   "source": []
  },
  {
   "cell_type": "code",
   "execution_count": null,
   "metadata": {},
   "outputs": [],
   "source": []
  },
  {
   "cell_type": "code",
   "execution_count": null,
   "metadata": {},
   "outputs": [],
   "source": []
  },
  {
   "cell_type": "code",
   "execution_count": null,
   "metadata": {},
   "outputs": [],
   "source": []
  },
  {
   "cell_type": "code",
   "execution_count": null,
   "metadata": {},
   "outputs": [],
   "source": []
  },
  {
   "cell_type": "code",
   "execution_count": null,
   "metadata": {},
   "outputs": [],
   "source": []
  },
  {
   "cell_type": "code",
   "execution_count": null,
   "metadata": {},
   "outputs": [],
   "source": []
  },
  {
   "cell_type": "code",
   "execution_count": null,
   "metadata": {},
   "outputs": [],
   "source": []
  },
  {
   "cell_type": "code",
   "execution_count": null,
   "metadata": {},
   "outputs": [],
   "source": []
  },
  {
   "cell_type": "code",
   "execution_count": null,
   "metadata": {},
   "outputs": [],
   "source": []
  },
  {
   "cell_type": "code",
   "execution_count": null,
   "metadata": {},
   "outputs": [],
   "source": []
  },
  {
   "cell_type": "code",
   "execution_count": null,
   "metadata": {},
   "outputs": [],
   "source": []
  },
  {
   "cell_type": "code",
   "execution_count": null,
   "metadata": {},
   "outputs": [],
   "source": []
  }
 ],
 "metadata": {
  "kernelspec": {
   "display_name": "Python 3",
   "language": "python",
   "name": "python3"
  },
  "language_info": {
   "codemirror_mode": {
    "name": "ipython",
    "version": 3
   },
   "file_extension": ".py",
   "mimetype": "text/x-python",
   "name": "python",
   "nbconvert_exporter": "python",
   "pygments_lexer": "ipython3",
   "version": "3.6.8"
  },
  "toc": {
   "base_numbering": 1,
   "nav_menu": {},
   "number_sections": true,
   "sideBar": true,
   "skip_h1_title": false,
   "title_cell": "Table of Contents",
   "title_sidebar": "Contents",
   "toc_cell": false,
   "toc_position": {},
   "toc_section_display": true,
   "toc_window_display": false
  }
 },
 "nbformat": 4,
 "nbformat_minor": 2
}
